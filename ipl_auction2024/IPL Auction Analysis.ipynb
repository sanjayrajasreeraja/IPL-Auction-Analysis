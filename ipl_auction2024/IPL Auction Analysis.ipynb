{
 "cells": [
  {
   "cell_type": "markdown",
   "id": "5f9f5ebb",
   "metadata": {},
   "source": [
    "# Importing Libraries"
   ]
  },
  {
   "cell_type": "code",
   "execution_count": 1,
   "id": "efaa7282",
   "metadata": {},
   "outputs": [],
   "source": [
    "import numpy as np\n",
    "import pandas as pd\n",
    "import matplotlib.pyplot as plt\n",
    "import seaborn as sns\n",
    "%matplotlib inline"
   ]
  },
  {
   "cell_type": "markdown",
   "id": "692243bf",
   "metadata": {},
   "source": [
    "# Reading CSV files"
   ]
  },
  {
   "cell_type": "code",
   "execution_count": 2,
   "id": "8085bddd",
   "metadata": {
    "scrolled": false
   },
   "outputs": [],
   "source": [
    "ip_df = pd.read_csv('IPL_PLAYERS.csv')\n",
    "tb_df = pd.read_csv('TOP_BUYS.csv')\n",
    "un_df = pd.read_csv('UNSOLD_PLAYERS.csv')"
   ]
  },
  {
   "cell_type": "markdown",
   "id": "428a88f2",
   "metadata": {},
   "source": [
    "# Data Exploration "
   ]
  },
  {
   "cell_type": "code",
   "execution_count": 3,
   "id": "99464190",
   "metadata": {},
   "outputs": [
    {
     "data": {
      "text/html": [
       "<div>\n",
       "<style scoped>\n",
       "    .dataframe tbody tr th:only-of-type {\n",
       "        vertical-align: middle;\n",
       "    }\n",
       "\n",
       "    .dataframe tbody tr th {\n",
       "        vertical-align: top;\n",
       "    }\n",
       "\n",
       "    .dataframe thead th {\n",
       "        text-align: right;\n",
       "    }\n",
       "</style>\n",
       "<table border=\"1\" class=\"dataframe\">\n",
       "  <thead>\n",
       "    <tr style=\"text-align: right;\">\n",
       "      <th></th>\n",
       "      <th>PLAYERS</th>\n",
       "      <th>NATIONALITY</th>\n",
       "      <th>TYPE</th>\n",
       "      <th>PRICE PAID</th>\n",
       "      <th>TEAM</th>\n",
       "    </tr>\n",
       "  </thead>\n",
       "  <tbody>\n",
       "    <tr>\n",
       "      <th>0</th>\n",
       "      <td>Avanish Rao Aravelly</td>\n",
       "      <td>Indian</td>\n",
       "      <td>Wicket-Keeper</td>\n",
       "      <td>2000000</td>\n",
       "      <td>CSK</td>\n",
       "    </tr>\n",
       "    <tr>\n",
       "      <th>1</th>\n",
       "      <td>Mustafizur Rahman</td>\n",
       "      <td>Overseas</td>\n",
       "      <td>Bowler</td>\n",
       "      <td>20000000</td>\n",
       "      <td>CSK</td>\n",
       "    </tr>\n",
       "    <tr>\n",
       "      <th>2</th>\n",
       "      <td>Daryl Mitchell</td>\n",
       "      <td>Overseas</td>\n",
       "      <td>All-Rounder</td>\n",
       "      <td>140000000</td>\n",
       "      <td>CSK</td>\n",
       "    </tr>\n",
       "    <tr>\n",
       "      <th>3</th>\n",
       "      <td>Sameer Rizvi</td>\n",
       "      <td>Indian</td>\n",
       "      <td>Batter</td>\n",
       "      <td>84000000</td>\n",
       "      <td>CSK</td>\n",
       "    </tr>\n",
       "    <tr>\n",
       "      <th>4</th>\n",
       "      <td>Rachin Ravindra</td>\n",
       "      <td>Overseas</td>\n",
       "      <td>All-Rounder</td>\n",
       "      <td>18000000</td>\n",
       "      <td>CSK</td>\n",
       "    </tr>\n",
       "  </tbody>\n",
       "</table>\n",
       "</div>"
      ],
      "text/plain": [
       "                PLAYERS NATIONALITY           TYPE  PRICE PAID TEAM\n",
       "0  Avanish Rao Aravelly      Indian  Wicket-Keeper     2000000  CSK\n",
       "1     Mustafizur Rahman    Overseas         Bowler    20000000  CSK\n",
       "2        Daryl Mitchell    Overseas    All-Rounder   140000000  CSK\n",
       "3          Sameer Rizvi      Indian         Batter    84000000  CSK\n",
       "4       Rachin Ravindra    Overseas    All-Rounder    18000000  CSK"
      ]
     },
     "execution_count": 3,
     "metadata": {},
     "output_type": "execute_result"
    }
   ],
   "source": [
    "ip_df.head()"
   ]
  },
  {
   "cell_type": "code",
   "execution_count": 4,
   "id": "ceced549",
   "metadata": {},
   "outputs": [
    {
     "data": {
      "text/html": [
       "<div>\n",
       "<style scoped>\n",
       "    .dataframe tbody tr th:only-of-type {\n",
       "        vertical-align: middle;\n",
       "    }\n",
       "\n",
       "    .dataframe tbody tr th {\n",
       "        vertical-align: top;\n",
       "    }\n",
       "\n",
       "    .dataframe thead th {\n",
       "        text-align: right;\n",
       "    }\n",
       "</style>\n",
       "<table border=\"1\" class=\"dataframe\">\n",
       "  <thead>\n",
       "    <tr style=\"text-align: right;\">\n",
       "      <th></th>\n",
       "      <th>TEAM</th>\n",
       "      <th>NATIONALITY</th>\n",
       "      <th>TYPE</th>\n",
       "      <th>PRICE PAID</th>\n",
       "    </tr>\n",
       "  </thead>\n",
       "  <tbody>\n",
       "    <tr>\n",
       "      <th>0</th>\n",
       "      <td>Kolkata Knight Riders</td>\n",
       "      <td>Mitchell Starc</td>\n",
       "      <td>Bowler</td>\n",
       "      <td>24,75,00,000</td>\n",
       "    </tr>\n",
       "    <tr>\n",
       "      <th>1</th>\n",
       "      <td>Sunrisers Hyderabad</td>\n",
       "      <td>Pat Cummins</td>\n",
       "      <td>All-Rounder</td>\n",
       "      <td>20,50,00,000</td>\n",
       "    </tr>\n",
       "    <tr>\n",
       "      <th>2</th>\n",
       "      <td>Chennai Super Kings</td>\n",
       "      <td>Daryl Mitchell</td>\n",
       "      <td>All-Rounder</td>\n",
       "      <td>14,00,00,000</td>\n",
       "    </tr>\n",
       "    <tr>\n",
       "      <th>3</th>\n",
       "      <td>Punjab Kings</td>\n",
       "      <td>Harshal Patel</td>\n",
       "      <td>All-Rounder</td>\n",
       "      <td>11,75,00,000</td>\n",
       "    </tr>\n",
       "    <tr>\n",
       "      <th>4</th>\n",
       "      <td>Royal Challengers Bangalore</td>\n",
       "      <td>Alzarri Joseph</td>\n",
       "      <td>Bowler</td>\n",
       "      <td>11,50,00,000</td>\n",
       "    </tr>\n",
       "  </tbody>\n",
       "</table>\n",
       "</div>"
      ],
      "text/plain": [
       "                          TEAM     NATIONALITY         TYPE     PRICE PAID\n",
       "0        Kolkata Knight Riders  Mitchell Starc       Bowler   24,75,00,000\n",
       "1          Sunrisers Hyderabad     Pat Cummins  All-Rounder   20,50,00,000\n",
       "2          Chennai Super Kings  Daryl Mitchell  All-Rounder   14,00,00,000\n",
       "3                 Punjab Kings   Harshal Patel  All-Rounder   11,75,00,000\n",
       "4  Royal Challengers Bangalore  Alzarri Joseph       Bowler   11,50,00,000"
      ]
     },
     "execution_count": 4,
     "metadata": {},
     "output_type": "execute_result"
    }
   ],
   "source": [
    "tb_df.head()"
   ]
  },
  {
   "cell_type": "code",
   "execution_count": 5,
   "id": "a016f05e",
   "metadata": {},
   "outputs": [
    {
     "data": {
      "text/html": [
       "<div>\n",
       "<style scoped>\n",
       "    .dataframe tbody tr th:only-of-type {\n",
       "        vertical-align: middle;\n",
       "    }\n",
       "\n",
       "    .dataframe tbody tr th {\n",
       "        vertical-align: top;\n",
       "    }\n",
       "\n",
       "    .dataframe thead th {\n",
       "        text-align: right;\n",
       "    }\n",
       "</style>\n",
       "<table border=\"1\" class=\"dataframe\">\n",
       "  <thead>\n",
       "    <tr style=\"text-align: right;\">\n",
       "      <th></th>\n",
       "      <th>PLAYER</th>\n",
       "      <th>NATIONALITY</th>\n",
       "      <th>TYPE</th>\n",
       "      <th>BASE PRICE</th>\n",
       "    </tr>\n",
       "  </thead>\n",
       "  <tbody>\n",
       "    <tr>\n",
       "      <th>0</th>\n",
       "      <td>Priyansh Arya</td>\n",
       "      <td>Indian</td>\n",
       "      <td>Batter</td>\n",
       "      <td>2000000</td>\n",
       "    </tr>\n",
       "    <tr>\n",
       "      <th>1</th>\n",
       "      <td>Rohan Kunnummal</td>\n",
       "      <td>Indian</td>\n",
       "      <td>Batter</td>\n",
       "      <td>2000000</td>\n",
       "    </tr>\n",
       "    <tr>\n",
       "      <th>2</th>\n",
       "      <td>Manan Vohra</td>\n",
       "      <td>Indian</td>\n",
       "      <td>Batter</td>\n",
       "      <td>2000000</td>\n",
       "    </tr>\n",
       "    <tr>\n",
       "      <th>3</th>\n",
       "      <td>Raj Angad Bawa</td>\n",
       "      <td>Indian</td>\n",
       "      <td>All-Rounder</td>\n",
       "      <td>2000000</td>\n",
       "    </tr>\n",
       "    <tr>\n",
       "      <th>4</th>\n",
       "      <td>Sarfaraz Khan</td>\n",
       "      <td>Indian</td>\n",
       "      <td>All-Rounder</td>\n",
       "      <td>2000000</td>\n",
       "    </tr>\n",
       "  </tbody>\n",
       "</table>\n",
       "</div>"
      ],
      "text/plain": [
       "            PLAYER NATIONALITY         TYPE  BASE PRICE\n",
       "0    Priyansh Arya      Indian       Batter     2000000\n",
       "1  Rohan Kunnummal      Indian       Batter     2000000\n",
       "2      Manan Vohra      Indian       Batter     2000000\n",
       "3   Raj Angad Bawa      Indian  All-Rounder     2000000\n",
       "4    Sarfaraz Khan      Indian  All-Rounder     2000000"
      ]
     },
     "execution_count": 5,
     "metadata": {},
     "output_type": "execute_result"
    }
   ],
   "source": [
    "un_df.head()"
   ]
  },
  {
   "cell_type": "code",
   "execution_count": 6,
   "id": "61e6d5f1",
   "metadata": {},
   "outputs": [
    {
     "data": {
      "text/html": [
       "<div>\n",
       "<style scoped>\n",
       "    .dataframe tbody tr th:only-of-type {\n",
       "        vertical-align: middle;\n",
       "    }\n",
       "\n",
       "    .dataframe tbody tr th {\n",
       "        vertical-align: top;\n",
       "    }\n",
       "\n",
       "    .dataframe thead th {\n",
       "        text-align: right;\n",
       "    }\n",
       "</style>\n",
       "<table border=\"1\" class=\"dataframe\">\n",
       "  <thead>\n",
       "    <tr style=\"text-align: right;\">\n",
       "      <th></th>\n",
       "      <th>TEAM</th>\n",
       "      <th>PLAYER</th>\n",
       "      <th>TYPE</th>\n",
       "      <th>PRICE PAID</th>\n",
       "    </tr>\n",
       "  </thead>\n",
       "  <tbody>\n",
       "    <tr>\n",
       "      <th>0</th>\n",
       "      <td>Kolkata Knight Riders</td>\n",
       "      <td>Mitchell Starc</td>\n",
       "      <td>Bowler</td>\n",
       "      <td>24,75,00,000</td>\n",
       "    </tr>\n",
       "    <tr>\n",
       "      <th>1</th>\n",
       "      <td>Sunrisers Hyderabad</td>\n",
       "      <td>Pat Cummins</td>\n",
       "      <td>All-Rounder</td>\n",
       "      <td>20,50,00,000</td>\n",
       "    </tr>\n",
       "    <tr>\n",
       "      <th>2</th>\n",
       "      <td>Chennai Super Kings</td>\n",
       "      <td>Daryl Mitchell</td>\n",
       "      <td>All-Rounder</td>\n",
       "      <td>14,00,00,000</td>\n",
       "    </tr>\n",
       "    <tr>\n",
       "      <th>3</th>\n",
       "      <td>Punjab Kings</td>\n",
       "      <td>Harshal Patel</td>\n",
       "      <td>All-Rounder</td>\n",
       "      <td>11,75,00,000</td>\n",
       "    </tr>\n",
       "    <tr>\n",
       "      <th>4</th>\n",
       "      <td>Royal Challengers Bangalore</td>\n",
       "      <td>Alzarri Joseph</td>\n",
       "      <td>Bowler</td>\n",
       "      <td>11,50,00,000</td>\n",
       "    </tr>\n",
       "  </tbody>\n",
       "</table>\n",
       "</div>"
      ],
      "text/plain": [
       "                          TEAM          PLAYER         TYPE     PRICE PAID\n",
       "0        Kolkata Knight Riders  Mitchell Starc       Bowler   24,75,00,000\n",
       "1          Sunrisers Hyderabad     Pat Cummins  All-Rounder   20,50,00,000\n",
       "2          Chennai Super Kings  Daryl Mitchell  All-Rounder   14,00,00,000\n",
       "3                 Punjab Kings   Harshal Patel  All-Rounder   11,75,00,000\n",
       "4  Royal Challengers Bangalore  Alzarri Joseph       Bowler   11,50,00,000"
      ]
     },
     "execution_count": 6,
     "metadata": {},
     "output_type": "execute_result"
    }
   ],
   "source": [
    "#Changing column name in Top Buy table\n",
    "new_col = {\"NATIONALITY\":\"PLAYER\"}\n",
    "tb_df = tb_df.rename(columns=new_col)\n",
    "tb_df.head()"
   ]
  },
  {
   "cell_type": "markdown",
   "id": "6a0f0301",
   "metadata": {},
   "source": [
    "# Data Cleaning"
   ]
  },
  {
   "cell_type": "code",
   "execution_count": 7,
   "id": "f39ab6a5",
   "metadata": {},
   "outputs": [
    {
     "data": {
      "text/plain": [
       "PLAYERS        0\n",
       "NATIONALITY    0\n",
       "TYPE           0\n",
       "PRICE PAID     0\n",
       "TEAM           0\n",
       "dtype: int64"
      ]
     },
     "execution_count": 7,
     "metadata": {},
     "output_type": "execute_result"
    }
   ],
   "source": [
    "ip_df.isna().sum()"
   ]
  },
  {
   "cell_type": "code",
   "execution_count": 8,
   "id": "07a5afa1",
   "metadata": {},
   "outputs": [
    {
     "data": {
      "text/plain": [
       "TEAM          0\n",
       "PLAYER        0\n",
       "TYPE          0\n",
       "PRICE PAID    0\n",
       "dtype: int64"
      ]
     },
     "execution_count": 8,
     "metadata": {},
     "output_type": "execute_result"
    }
   ],
   "source": [
    "tb_df.isna().sum()"
   ]
  },
  {
   "cell_type": "code",
   "execution_count": 9,
   "id": "cf1da0cc",
   "metadata": {},
   "outputs": [
    {
     "data": {
      "text/plain": [
       "PLAYER         0\n",
       "NATIONALITY    0\n",
       "TYPE           0\n",
       "BASE PRICE     0\n",
       "dtype: int64"
      ]
     },
     "execution_count": 9,
     "metadata": {},
     "output_type": "execute_result"
    }
   ],
   "source": [
    "un_df.isna().sum()"
   ]
  },
  {
   "cell_type": "code",
   "execution_count": 10,
   "id": "a303a6a2",
   "metadata": {},
   "outputs": [
    {
     "name": "stdout",
     "output_type": "stream",
     "text": [
      "<class 'pandas.core.frame.DataFrame'>\n",
      "RangeIndex: 72 entries, 0 to 71\n",
      "Data columns (total 5 columns):\n",
      " #   Column       Non-Null Count  Dtype \n",
      "---  ------       --------------  ----- \n",
      " 0   PLAYERS      72 non-null     object\n",
      " 1   NATIONALITY  72 non-null     object\n",
      " 2   TYPE         72 non-null     object\n",
      " 3   PRICE PAID   72 non-null     int64 \n",
      " 4   TEAM         72 non-null     object\n",
      "dtypes: int64(1), object(4)\n",
      "memory usage: 2.9+ KB\n"
     ]
    }
   ],
   "source": [
    "ip_df.info()"
   ]
  },
  {
   "cell_type": "code",
   "execution_count": 11,
   "id": "9d0afa51",
   "metadata": {},
   "outputs": [
    {
     "name": "stdout",
     "output_type": "stream",
     "text": [
      "<class 'pandas.core.frame.DataFrame'>\n",
      "RangeIndex: 10 entries, 0 to 9\n",
      "Data columns (total 4 columns):\n",
      " #   Column      Non-Null Count  Dtype \n",
      "---  ------      --------------  ----- \n",
      " 0   TEAM        10 non-null     object\n",
      " 1   PLAYER      10 non-null     object\n",
      " 2   TYPE        10 non-null     object\n",
      " 3   PRICE PAID  10 non-null     object\n",
      "dtypes: object(4)\n",
      "memory usage: 452.0+ bytes\n"
     ]
    }
   ],
   "source": [
    "tb_df.info()"
   ]
  },
  {
   "cell_type": "code",
   "execution_count": 12,
   "id": "3698eb3d",
   "metadata": {},
   "outputs": [
    {
     "name": "stdout",
     "output_type": "stream",
     "text": [
      "<class 'pandas.core.frame.DataFrame'>\n",
      "RangeIndex: 10 entries, 0 to 9\n",
      "Data columns (total 4 columns):\n",
      " #   Column      Non-Null Count  Dtype \n",
      "---  ------      --------------  ----- \n",
      " 0   TEAM        10 non-null     object\n",
      " 1   PLAYER      10 non-null     object\n",
      " 2   TYPE        10 non-null     object\n",
      " 3   PRICE PAID  10 non-null     int64 \n",
      "dtypes: int64(1), object(3)\n",
      "memory usage: 452.0+ bytes\n"
     ]
    }
   ],
   "source": [
    "#Changing the data type of price paid to integer\n",
    "tb_df['PRICE PAID'] = tb_df['PRICE PAID'].str.replace(',', '').astype('int64')\n",
    "tb_df.info()"
   ]
  },
  {
   "cell_type": "code",
   "execution_count": 13,
   "id": "14f4f609",
   "metadata": {},
   "outputs": [
    {
     "name": "stdout",
     "output_type": "stream",
     "text": [
      "<class 'pandas.core.frame.DataFrame'>\n",
      "RangeIndex: 260 entries, 0 to 259\n",
      "Data columns (total 4 columns):\n",
      " #   Column       Non-Null Count  Dtype \n",
      "---  ------       --------------  ----- \n",
      " 0   PLAYER       260 non-null    object\n",
      " 1   NATIONALITY  260 non-null    object\n",
      " 2   TYPE         260 non-null    object\n",
      " 3   BASE PRICE   260 non-null    int64 \n",
      "dtypes: int64(1), object(3)\n",
      "memory usage: 8.3+ KB\n"
     ]
    }
   ],
   "source": [
    "un_df.info()"
   ]
  },
  {
   "cell_type": "markdown",
   "id": "91ed6b67",
   "metadata": {},
   "source": [
    "## Which team spent the most?"
   ]
  },
  {
   "cell_type": "code",
   "execution_count": 14,
   "id": "837e4cf2",
   "metadata": {},
   "outputs": [
    {
     "data": {
      "text/plain": [
       "TEAM\n",
       "KKR    313500000\n",
       "SH     308000000\n",
       "CSK    304000000\n",
       "GT     303000000\n",
       "PK     249500000\n",
       "RCB    204000000\n",
       "DC     190500000\n",
       "MI     167000000\n",
       "RR     143000000\n",
       "LSG    122000000\n",
       "Name: PRICE PAID, dtype: int64"
      ]
     },
     "execution_count": 14,
     "metadata": {},
     "output_type": "execute_result"
    }
   ],
   "source": [
    "value_spent = ip_df.groupby(\"TEAM\")[\"PRICE PAID\"].sum()\n",
    "value_spent.sort_values(ascending = False)"
   ]
  },
  {
   "cell_type": "code",
   "execution_count": 15,
   "id": "802268f4",
   "metadata": {},
   "outputs": [
    {
     "data": {
      "text/plain": [
       "<Axes: title={'center': 'PRICE SPENT BY TEAMS'}, xlabel='TEAM', ylabel='Price spent'>"
      ]
     },
     "execution_count": 15,
     "metadata": {},
     "output_type": "execute_result"
    },
    {
     "data": {
      "image/png": "[encoded data removed]",
      "text/plain": [
       "<Figure size 640x480 with 1 Axes>"
      ]
     },
     "metadata": {},
     "output_type": "display_data"
    }
   ],
   "source": [
    "value_spent.plot(kind=\"bar\",ylabel=\"Price spent\",title=\"PRICE SPENT BY TEAMS\")"
   ]
  },
  {
   "cell_type": "markdown",
   "id": "8267a1d4",
   "metadata": {},
   "source": [
    "## How many players from each type were sold?"
   ]
  },
  {
   "cell_type": "code",
   "execution_count": 16,
   "id": "140d09cd",
   "metadata": {},
   "outputs": [
    {
     "data": {
      "text/plain": [
       "TYPE\n",
       "All-Rounder      25\n",
       "Batter           13\n",
       "Bowler           26\n",
       "Wicket-Keeper     8\n",
       "Name: PLAYERS, dtype: int64"
      ]
     },
     "execution_count": 16,
     "metadata": {},
     "output_type": "execute_result"
    }
   ],
   "source": [
    "wk_sold = ip_df.groupby(\"TYPE\")[\"PLAYERS\"].count()\n",
    "wk_sold"
   ]
  },
  {
   "cell_type": "code",
   "execution_count": 17,
   "id": "d0d35ff6",
   "metadata": {},
   "outputs": [
    {
     "data": {
      "text/plain": [
       "<Axes: title={'center': 'Number of players in each type'}, xlabel='Type', ylabel='Number of players'>"
      ]
     },
     "execution_count": 17,
     "metadata": {},
     "output_type": "execute_result"
    },
    {
     "data": {
      "image/png": "[encoded data removed]",
      "text/plain": [
       "<Figure size 640x480 with 1 Axes>"
      ]
     },
     "metadata": {},
     "output_type": "display_data"
    }
   ],
   "source": [
    "wk_sold.plot(kind=\"bar\",xlabel=\"Type\",ylabel=\"Number of players\",title=\"Number of players in each type\")"
   ]
  },
  {
   "cell_type": "markdown",
   "id": "9cae55a5",
   "metadata": {},
   "source": [
    "## Unsold players nationality count?"
   ]
  },
  {
   "cell_type": "code",
   "execution_count": 18,
   "id": "32922641",
   "metadata": {},
   "outputs": [
    {
     "data": {
      "text/plain": [
       "NATIONALITY\n",
       "Indian      174\n",
       "Overseas     86\n",
       "Name: PLAYER, dtype: int64"
      ]
     },
     "execution_count": 18,
     "metadata": {},
     "output_type": "execute_result"
    }
   ],
   "source": [
    "unsold_nat = un_df.groupby(\"NATIONALITY\")[\"PLAYER\"].count()\n",
    "unsold_nat"
   ]
  },
  {
   "cell_type": "markdown",
   "id": "5b82b2c1",
   "metadata": {},
   "source": [
    "## Who got the highest amount?"
   ]
  },
  {
   "cell_type": "code",
   "execution_count": 19,
   "id": "e6b10108",
   "metadata": {},
   "outputs": [
    {
     "data": {
      "text/html": [
       "<div>\n",
       "<style scoped>\n",
       "    .dataframe tbody tr th:only-of-type {\n",
       "        vertical-align: middle;\n",
       "    }\n",
       "\n",
       "    .dataframe tbody tr th {\n",
       "        vertical-align: top;\n",
       "    }\n",
       "\n",
       "    .dataframe thead th {\n",
       "        text-align: right;\n",
       "    }\n",
       "</style>\n",
       "<table border=\"1\" class=\"dataframe\">\n",
       "  <thead>\n",
       "    <tr style=\"text-align: right;\">\n",
       "      <th></th>\n",
       "      <th>TEAM</th>\n",
       "      <th>PLAYER</th>\n",
       "      <th>TYPE</th>\n",
       "      <th>PRICE PAID</th>\n",
       "    </tr>\n",
       "  </thead>\n",
       "  <tbody>\n",
       "    <tr>\n",
       "      <th>0</th>\n",
       "      <td>Kolkata Knight Riders</td>\n",
       "      <td>Mitchell Starc</td>\n",
       "      <td>Bowler</td>\n",
       "      <td>247500000</td>\n",
       "    </tr>\n",
       "    <tr>\n",
       "      <th>1</th>\n",
       "      <td>Sunrisers Hyderabad</td>\n",
       "      <td>Pat Cummins</td>\n",
       "      <td>All-Rounder</td>\n",
       "      <td>205000000</td>\n",
       "    </tr>\n",
       "    <tr>\n",
       "      <th>2</th>\n",
       "      <td>Chennai Super Kings</td>\n",
       "      <td>Daryl Mitchell</td>\n",
       "      <td>All-Rounder</td>\n",
       "      <td>140000000</td>\n",
       "    </tr>\n",
       "    <tr>\n",
       "      <th>3</th>\n",
       "      <td>Punjab Kings</td>\n",
       "      <td>Harshal Patel</td>\n",
       "      <td>All-Rounder</td>\n",
       "      <td>117500000</td>\n",
       "    </tr>\n",
       "    <tr>\n",
       "      <th>4</th>\n",
       "      <td>Royal Challengers Bangalore</td>\n",
       "      <td>Alzarri Joseph</td>\n",
       "      <td>Bowler</td>\n",
       "      <td>115000000</td>\n",
       "    </tr>\n",
       "    <tr>\n",
       "      <th>5</th>\n",
       "      <td>Gujarat Titans</td>\n",
       "      <td>Spencer Johnson</td>\n",
       "      <td>Bowler</td>\n",
       "      <td>100000000</td>\n",
       "    </tr>\n",
       "    <tr>\n",
       "      <th>6</th>\n",
       "      <td>Chennai Super Kings</td>\n",
       "      <td>Sameer Rizvi</td>\n",
       "      <td>Batter</td>\n",
       "      <td>84000000</td>\n",
       "    </tr>\n",
       "    <tr>\n",
       "      <th>7</th>\n",
       "      <td>Punjab Kings</td>\n",
       "      <td>Rilee Rossouw</td>\n",
       "      <td>Batter</td>\n",
       "      <td>80000000</td>\n",
       "    </tr>\n",
       "    <tr>\n",
       "      <th>8</th>\n",
       "      <td>Gujarat Titans</td>\n",
       "      <td>Shahrukh Khan</td>\n",
       "      <td>All-Rounder</td>\n",
       "      <td>74000000</td>\n",
       "    </tr>\n",
       "    <tr>\n",
       "      <th>9</th>\n",
       "      <td>Rajasthan Royals</td>\n",
       "      <td>Rovman Powell</td>\n",
       "      <td>Batter</td>\n",
       "      <td>74000000</td>\n",
       "    </tr>\n",
       "  </tbody>\n",
       "</table>\n",
       "</div>"
      ],
      "text/plain": [
       "                          TEAM           PLAYER         TYPE  PRICE PAID\n",
       "0        Kolkata Knight Riders   Mitchell Starc       Bowler   247500000\n",
       "1          Sunrisers Hyderabad      Pat Cummins  All-Rounder   205000000\n",
       "2          Chennai Super Kings   Daryl Mitchell  All-Rounder   140000000\n",
       "3                 Punjab Kings    Harshal Patel  All-Rounder   117500000\n",
       "4  Royal Challengers Bangalore   Alzarri Joseph       Bowler   115000000\n",
       "5               Gujarat Titans  Spencer Johnson       Bowler   100000000\n",
       "6          Chennai Super Kings     Sameer Rizvi       Batter    84000000\n",
       "7                 Punjab Kings    Rilee Rossouw       Batter    80000000\n",
       "8               Gujarat Titans    Shahrukh Khan  All-Rounder    74000000\n",
       "9             Rajasthan Royals    Rovman Powell       Batter    74000000"
      ]
     },
     "execution_count": 19,
     "metadata": {},
     "output_type": "execute_result"
    }
   ],
   "source": [
    "tb_df"
   ]
  },
  {
   "cell_type": "code",
   "execution_count": 23,
   "id": "5da7806b",
   "metadata": {},
   "outputs": [
    {
     "data": {
      "text/plain": [
       "<Axes: title={'center': 'TOP BUY'}, xlabel='PLAYER'>"
      ]
     },
     "execution_count": 23,
     "metadata": {},
     "output_type": "execute_result"
    },
    {
     "data": {
      "image/png": "[encoded data removed]",
      "text/plain": [
       "<Figure size 640x480 with 1 Axes>"
      ]
     },
     "metadata": {},
     "output_type": "display_data"
    }
   ],
   "source": [
    "tb_df.plot(kind=\"bar\",x=\"PLAYER\",y=\"PRICE PAID\",title=\"TOP BUY\",color=\"yellow\")"
   ]
  },
  {
   "cell_type": "code",
   "execution_count": null,
   "id": "f6d4934d",
   "metadata": {},
   "outputs": [],
   "source": []
  }
 ],
 "metadata": {
  "kernelspec": {
   "display_name": "Python 3 (ipykernel)",
   "language": "python",
   "name": "python3"
  },
  "language_info": {
   "codemirror_mode": {
    "name": "ipython",
    "version": 3
   },
   "file_extension": ".py",
   "mimetype": "text/x-python",
   "name": "python",
   "nbconvert_exporter": "python",
   "pygments_lexer": "ipython3",
   "version": "3.11.5"
  }
 },
 "nbformat": 4,
 "nbformat_minor": 5
}
